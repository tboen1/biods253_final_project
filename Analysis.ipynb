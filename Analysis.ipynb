{
 "cells": [
  {
   "cell_type": "code",
   "execution_count": 2,
   "metadata": {},
   "outputs": [],
   "source": [
    "import numpy as np\n",
    "import pandas as pd\n",
    "from tqdm import tqdm\n",
    "\n",
    "import pickle as pk\n",
    "import os\n",
    "\n",
    "import matplotlib.pyplot as plt\n",
    "import seaborn as sns"
   ]
  },
  {
   "cell_type": "markdown",
   "metadata": {},
   "source": [
    "## Strategy Comparisons\n",
    "\n",
    "We're going to compare the effectiveness of the \"best guess\", \"best answer\", and \"random answer\" strategies. We can load our simulation results from `strategy_simulations.py`. To compare against our personal baseline, we'll need to bootstrap from my historical distribution since I haven't played every possible wordle game. "
   ]
  },
  {
   "cell_type": "code",
   "execution_count": 3,
   "metadata": {},
   "outputs": [],
   "source": [
    "#strategies to compare\n",
    "strategy_list = [\"best_guess\", \"best_answer\", \"random_answer\", \"personal\"]"
   ]
  },
  {
   "cell_type": "code",
   "execution_count": 4,
   "metadata": {},
   "outputs": [],
   "source": [
    "#my personal performance, num_turns: number of times I won in that number of turns. \n",
    "\n",
    "my_performance = {1:0, 2: 0, 3:3, 4:6, 5:6, 6:1, 7:1}\n",
    "\n",
    "my_turn_dist = []\n",
    "for turn, count in my_performance.items():\n",
    "    my_turn_dist.extend([turn]*count)\n",
    "    \n",
    "my_turn_dist = np.asarray(my_turn_dist)"
   ]
  },
  {
   "cell_type": "code",
   "execution_count": 5,
   "metadata": {},
   "outputs": [],
   "source": [
    "num_words = 2315 \n",
    "\n",
    "df_list = []\n",
    "\n",
    "for rep in range(10):\n",
    "    for strategy in strategy_list:\n",
    "        \n",
    "        #bootstrap\n",
    "        if strategy == \"personal\":\n",
    "            num_turns = np.random.choice(my_turn_dist, num_words)\n",
    "        \n",
    "        #load simulation results\n",
    "        else:\n",
    "            fp = \"results/{}_strategy_full_results_rep={}.pk\".format(strategy, rep)\n",
    "            full_results = pk.load(open(fp, \"rb\"))\n",
    "\n",
    "            num_turns = np.asarray([int(len(x)/2) for x in full_results.values()])\n",
    "        \n",
    "        df = pd.DataFrame()\n",
    "        df['num_turns'] = num_turns\n",
    "        df['rep'] = rep\n",
    "        df['strategy'] = strategy\n",
    "\n",
    "        df_list.append(df)\n",
    "        \n",
    "full_df = pd.concat(df_list)"
   ]
  },
  {
   "cell_type": "code",
   "execution_count": 6,
   "metadata": {},
   "outputs": [
    {
     "data": {
      "text/html": [
       "<div>\n",
       "<style scoped>\n",
       "    .dataframe tbody tr th:only-of-type {\n",
       "        vertical-align: middle;\n",
       "    }\n",
       "\n",
       "    .dataframe tbody tr th {\n",
       "        vertical-align: top;\n",
       "    }\n",
       "\n",
       "    .dataframe thead th {\n",
       "        text-align: right;\n",
       "    }\n",
       "</style>\n",
       "<table border=\"1\" class=\"dataframe\">\n",
       "  <thead>\n",
       "    <tr style=\"text-align: right;\">\n",
       "      <th></th>\n",
       "      <th>num_turns</th>\n",
       "      <th>rep</th>\n",
       "      <th>strategy</th>\n",
       "    </tr>\n",
       "  </thead>\n",
       "  <tbody>\n",
       "    <tr>\n",
       "      <th>0</th>\n",
       "      <td>3</td>\n",
       "      <td>0</td>\n",
       "      <td>best_guess</td>\n",
       "    </tr>\n",
       "    <tr>\n",
       "      <th>1</th>\n",
       "      <td>3</td>\n",
       "      <td>0</td>\n",
       "      <td>best_guess</td>\n",
       "    </tr>\n",
       "    <tr>\n",
       "      <th>2</th>\n",
       "      <td>3</td>\n",
       "      <td>0</td>\n",
       "      <td>best_guess</td>\n",
       "    </tr>\n",
       "    <tr>\n",
       "      <th>3</th>\n",
       "      <td>3</td>\n",
       "      <td>0</td>\n",
       "      <td>best_guess</td>\n",
       "    </tr>\n",
       "    <tr>\n",
       "      <th>4</th>\n",
       "      <td>3</td>\n",
       "      <td>0</td>\n",
       "      <td>best_guess</td>\n",
       "    </tr>\n",
       "  </tbody>\n",
       "</table>\n",
       "</div>"
      ],
      "text/plain": [
       "   num_turns  rep    strategy\n",
       "0          3    0  best_guess\n",
       "1          3    0  best_guess\n",
       "2          3    0  best_guess\n",
       "3          3    0  best_guess\n",
       "4          3    0  best_guess"
      ]
     },
     "execution_count": 6,
     "metadata": {},
     "output_type": "execute_result"
    }
   ],
   "source": [
    "full_df.head()"
   ]
  },
  {
   "cell_type": "markdown",
   "metadata": {},
   "source": [
    "## Visualization\n",
    "\n",
    "Now that we're finished loading in the data, let's visualize the results!"
   ]
  },
  {
   "cell_type": "code",
   "execution_count": 7,
   "metadata": {},
   "outputs": [],
   "source": [
    "#ugly hack for making sure that x-axis is the same for everybody. \n",
    "\n",
    "from itertools import product\n",
    "\n",
    "reps, num_turns = np.arange(10), np.arange(1,full_df['num_turns'].max() + 1)\n",
    "\n",
    "reps_by_turns = []\n",
    "for a, b in product(reps, num_turns): reps_by_turns.append([a,b])\n",
    "reps_by_turns = np.asarray(reps_by_turns)\n",
    "\n",
    "empty_df = pd.DataFrame({'num_turns': reps_by_turns[:,1],\n",
    "                         'rep': reps_by_turns[:,0]})"
   ]
  },
  {
   "cell_type": "code",
   "execution_count": 8,
   "metadata": {
    "scrolled": true
   },
   "outputs": [
    {
     "data": {
      "image/png": "[encoded data removed]",
      "text/plain": [
       "<Figure size 1152x288 with 5 Axes>"
      ]
     },
     "metadata": {
      "needs_background": "light"
     },
     "output_type": "display_data"
    }
   ],
   "source": [
    "#plotting script\n",
    "\n",
    "plt.rcParams[\"font.family\"] = \"serif\"\n",
    "\n",
    "pretty_strategy = {\"best_guess\": \"best guess\", \n",
    "                   \"best_answer\": \"best answer\",\n",
    "                   \"random_answer\": \"random answer\",\n",
    "                   \"personal\": \"personal\"}\n",
    "\n",
    "fig, axes = plt.subplots(ncols = 4, figsize = (16,4), sharex=True)\n",
    "\n",
    "fig.add_subplot(111, frameon=False)\n",
    "\n",
    "for idx, (ax, strategy) in enumerate(zip(axes, strategy_list)):\n",
    "    \n",
    "    data = full_df[full_df['strategy'] == strategy][[\"num_turns\", \"rep\"]]\n",
    "    result_df = data.groupby(['num_turns', 'rep']).size().reset_index(name='count')\n",
    "    result_df['count'] = result_df['count']/num_words\n",
    "    \n",
    "    merged_df = pd.merge(empty_df, result_df, on = ['num_turns', 'rep'], how = \"left\")\n",
    "    merged_df = merged_df.fillna(0)\n",
    "    \n",
    "    mean_std = data['num_turns']\n",
    "    \n",
    "    mean, std = np.mean(data['num_turns'].values), np.std(data['num_turns'].values)\n",
    "    \n",
    "    ax.set_title(\"{}\".format(pretty_strategy[strategy]), fontsize = 18, pad = 10)\n",
    "\n",
    "    sns.barplot(data = merged_df, x = \"num_turns\", y = \"count\", \n",
    "                width = 0.9, dodge = False, ax = ax)\n",
    "    ax.text(4, 0.45, '{:.2f} +/- {:.2f} \\n guesses'.format(mean, std), size=15, color='black')\n",
    "    ax.set_ylim(0.0, 0.55)\n",
    "    \n",
    "for idx, ax in enumerate(axes.flatten()):\n",
    "    ax.set_ylabel(\"\")\n",
    "    ax.set_xlabel(\"\")\n",
    "        \n",
    "plt.tick_params(labelcolor='none', which='both', top=False, bottom=False, left=False, right=False)\n",
    "plt.ylabel(\"Proportion\", fontsize = 15)\n",
    "plt.xlabel(\"Number of Guesses\", fontsize = 15)\n",
    "    \n",
    "plt.savefig(\"results/simulation_results.png\", dpi = 300)"
   ]
  },
  {
   "cell_type": "markdown",
   "metadata": {},
   "source": [
    "## Statistical Testing\n",
    "\n",
    "The story is pretty clear from the visualization, but we can also run a statistical test. In this case, since we have the strategy results for every wordle word, we can use a paired statistical test. i.e., for any given word, I can compare the performance of each strategy (except personal) on that word. "
   ]
  },
  {
   "cell_type": "code",
   "execution_count": 9,
   "metadata": {},
   "outputs": [],
   "source": [
    "from scipy.stats import ttest_rel"
   ]
  },
  {
   "cell_type": "code",
   "execution_count": 10,
   "metadata": {},
   "outputs": [],
   "source": [
    "def compare_two_strategies(strategy1, strategy2):\n",
    "    \n",
    "    x = full_df[full_df['strategy'] == strategy1]['num_turns'].values\n",
    "    y = full_df[full_df['strategy'] == strategy2]['num_turns'].values\n",
    "    \n",
    "    return ttest_rel(x, y, alternative = \"less\")"
   ]
  },
  {
   "cell_type": "code",
   "execution_count": 11,
   "metadata": {},
   "outputs": [
    {
     "data": {
      "text/plain": [
       "Ttest_relResult(statistic=-20.456898423901464, pvalue=1.7051179721031718e-92)"
      ]
     },
     "execution_count": 11,
     "metadata": {},
     "output_type": "execute_result"
    }
   ],
   "source": [
    "compare_two_strategies(\"best_guess\", \"best_answer\")"
   ]
  },
  {
   "cell_type": "code",
   "execution_count": 12,
   "metadata": {},
   "outputs": [
    {
     "data": {
      "text/plain": [
       "Ttest_relResult(statistic=-57.47149829315941, pvalue=0.0)"
      ]
     },
     "execution_count": 12,
     "metadata": {},
     "output_type": "execute_result"
    }
   ],
   "source": [
    "compare_two_strategies(\"best_answer\", \"random_answer\")"
   ]
  },
  {
   "cell_type": "code",
   "execution_count": 13,
   "metadata": {},
   "outputs": [
    {
     "data": {
      "text/plain": [
       "Ttest_relResult(statistic=-40.824800750295, pvalue=0.0)"
      ]
     },
     "execution_count": 13,
     "metadata": {},
     "output_type": "execute_result"
    }
   ],
   "source": [
    "compare_two_strategies(\"random_answer\", \"personal\")"
   ]
  }
 ],
 "metadata": {
  "kernelspec": {
   "display_name": "Python 3",
   "language": "python",
   "name": "python3"
  },
  "language_info": {
   "codemirror_mode": {
    "name": "ipython",
    "version": 3
   },
   "file_extension": ".py",
   "mimetype": "text/x-python",
   "name": "python",
   "nbconvert_exporter": "python",
   "pygments_lexer": "ipython3",
   "version": "3.7.1"
  }
 },
 "nbformat": 4,
 "nbformat_minor": 2
}
